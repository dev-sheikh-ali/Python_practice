{
 "cells": [
  {
   "cell_type": "code",
   "execution_count": null,
   "id": "6bb6e713",
   "metadata": {},
   "outputs": [],
   "source": [
    "#Python Basic Exercise for Beginners"
   ]
  },
  {
   "cell_type": "code",
   "execution_count": null,
   "id": "0c9146e4",
   "metadata": {},
   "outputs": [],
   "source": [
    "#Question one\n",
    "#Given two integer numbers return their product only if the product is greater than 1000, else return their sum."
   ]
  },
  {
   "cell_type": "code",
   "execution_count": 66,
   "id": "6d063675",
   "metadata": {},
   "outputs": [
    {
     "name": "stdout",
     "output_type": "stream",
     "text": [
      "the result is 400\n",
      "The result is 70\n"
     ]
    }
   ],
   "source": [
    "def multiplication_or_sum(num1, num2):\n",
    "    product = num1 * num2\n",
    "    sum = num1 + num2\n",
    "    if product <= 1000:\n",
    "        return product\n",
    "    else:\n",
    "        return sum\n",
    "                    \n",
    "outcome = multiplication_or_sum(10,40)\n",
    "print(\"the result is\",outcome)\n",
    "outcome = multiplication_or_sum(40, 30)\n",
    "print(\"The result is\",outcome)         "
   ]
  },
  {
   "cell_type": "code",
   "execution_count": null,
   "id": "4592938a",
   "metadata": {},
   "outputs": [],
   "source": [
    "#Question two\n",
    "#Write a program to iterate the first 10 numbers and in each iteration, print the sum of the current and previous number"
   ]
  },
  {
   "cell_type": "code",
   "execution_count": 67,
   "id": "dda6906b",
   "metadata": {},
   "outputs": [
    {
     "name": "stdout",
     "output_type": "stream",
     "text": [
      "current 0 previous 0 sum 0\n",
      "current 1 previous 0 sum 1\n",
      "current 2 previous 1 sum 3\n",
      "current 3 previous 2 sum 5\n",
      "current 4 previous 3 sum 7\n",
      "current 5 previous 4 sum 9\n",
      "current 6 previous 5 sum 11\n",
      "current 7 previous 6 sum 13\n",
      "current 8 previous 7 sum 15\n",
      "current 9 previous 8 sum 17\n",
      "current 10 previous 9 sum 19\n"
     ]
    }
   ],
   "source": [
    "previous = 0\n",
    "for x in range(0, 11):\n",
    "    sum = previous + x\n",
    "    print(\"current\",x,\"previous\",previous,\"sum\",sum)\n",
    "    previous = x\n",
    "    "
   ]
  },
  {
   "cell_type": "code",
   "execution_count": 18,
   "id": "e3bdcd84",
   "metadata": {},
   "outputs": [],
   "source": [
    "#Question three\n",
    "#Print characters from a string that are present at an even index number"
   ]
  },
  {
   "cell_type": "code",
   "execution_count": 68,
   "id": "98e4f32b",
   "metadata": {},
   "outputs": [
    {
     "name": "stdout",
     "output_type": "stream",
     "text": [
      "input a word \n",
      "word\n",
      "your word is word\n",
      "index[ 0 ] w\n",
      "index[ 2 ] r\n"
     ]
    }
   ],
   "source": [
    "print(\"input a word \")\n",
    "word = input()\n",
    "print(\"your word is\",word)\n",
    "length=len(word)\n",
    "for i in range(0,length-1,2):\n",
    "    print(\"index[\", i, \"]\", word[i])\n",
    "\n"
   ]
  },
  {
   "cell_type": "code",
   "execution_count": null,
   "id": "7ef117e2",
   "metadata": {},
   "outputs": [],
   "source": [
    "#Question four\n",
    "#Remove first n characters from a string"
   ]
  },
  {
   "cell_type": "code",
   "execution_count": 69,
   "id": "1bc039eb",
   "metadata": {
    "scrolled": true
   },
   "outputs": [
    {
     "name": "stdout",
     "output_type": "stream",
     "text": [
      "Removing characters from a string\n",
      "Original string: bullshit\n",
      "shit\n",
      "Original string: pass\n",
      "ass\n"
     ]
    }
   ],
   "source": [
    "def remove_chars(word, x):\n",
    "    print('Original string:', word)\n",
    "    new_word = word[x:]\n",
    "    return new_word\n",
    "\n",
    "print(\"Removing characters from a string\")\n",
    "print(remove_chars(\"bullshit\", 4))\n",
    "print(remove_chars(\"pass\", 1))\n"
   ]
  },
  {
   "cell_type": "code",
   "execution_count": null,
   "id": "fdaa4c5e",
   "metadata": {},
   "outputs": [],
   "source": [
    "#Question five\n",
    "#Write a function to return True if the first and last number of a given list is same. If numbers are different then return False."
   ]
  },
  {
   "cell_type": "code",
   "execution_count": 70,
   "id": "956500f5",
   "metadata": {},
   "outputs": [
    {
     "name": "stdout",
     "output_type": "stream",
     "text": [
      "the list: [10, 20, 10, 30, 40, 50, 10]\n",
      "the outcome is True\n",
      "the list: [20, 30, 40, 50, 50, 60, 90]\n",
      "the outcome is False\n"
     ]
    }
   ],
   "source": [
    "def first_and_last(list_numbers):\n",
    "    \n",
    "    print(\"the list:\", list_numbers)\n",
    "    first_item = list_numbers[0]\n",
    "    last_item = list_numbers[-1]\n",
    "    \n",
    "    if first_item == last_item:\n",
    "        return True\n",
    "    else:\n",
    "        return False\n",
    "    \n",
    "    \n",
    "list_true = [10,20,10,30,40,50,10]\n",
    "print(\"the outcome is\",first_and_last(list_true))\n",
    "\n",
    "list_false =[20,30,40,50,50,60,90]\n",
    "print(\"the outcome is\",first_and_last(list_false))\n",
    "    "
   ]
  },
  {
   "cell_type": "code",
   "execution_count": 33,
   "id": "f5f68e62",
   "metadata": {},
   "outputs": [],
   "source": [
    "#Question six\n",
    "#Iterate the given list of numbers and print only those numbers which are divisible by 5"
   ]
  },
  {
   "cell_type": "code",
   "execution_count": 71,
   "id": "0ca904c1",
   "metadata": {},
   "outputs": [
    {
     "name": "stdout",
     "output_type": "stream",
     "text": [
      "entire list  [10, 3, 25, 7, 15, 8, 88, 67, 45]\n",
      "10\n",
      "25\n",
      "15\n",
      "45\n"
     ]
    }
   ],
   "source": [
    "def check_divisibility(numberlist):\n",
    "    print(\"entire list \", numberlist)\n",
    "    for num in numberlist:\n",
    "        if num % 5 == 0:\n",
    "            print(num)\n",
    "            \n",
    "            \n",
    "the_list = [10,3,25,7,15,8,88,67,45]\n",
    "check_divisibility(the_list)"
   ]
  },
  {
   "cell_type": "code",
   "execution_count": null,
   "id": "29663bd3",
   "metadata": {},
   "outputs": [],
   "source": [
    "#Question seven\n",
    "#Write a program to find how many times substring “Emma” appears in the given string"
   ]
  },
  {
   "cell_type": "code",
   "execution_count": null,
   "id": "1d95443d",
   "metadata": {},
   "outputs": [],
   "source": []
  },
  {
   "cell_type": "code",
   "execution_count": null,
   "id": "67f500a0",
   "metadata": {},
   "outputs": [],
   "source": [
    "#Question eight\n",
    "#Print the following pattern\n",
    "\"\"\"\n",
    "1 \n",
    "2 2 \n",
    "3 3 3 \n",
    "4 4 4 4 \n",
    "5 5 5 5 5\n",
    "\"\"\""
   ]
  },
  {
   "cell_type": "code",
   "execution_count": 65,
   "id": "0f4eb4ee",
   "metadata": {},
   "outputs": [
    {
     "name": "stdout",
     "output_type": "stream",
     "text": [
      "\n",
      "\n",
      "1 \n",
      "\n",
      "2 2 \n",
      "\n",
      "3 3 3 \n",
      "\n",
      "4 4 4 4 \n",
      "\n",
      "5 5 5 5 5 \n",
      "\n"
     ]
    }
   ],
   "source": [
    "for nums in range(6):\n",
    "    for x in range(nums):\n",
    "        print(nums, end=\" \")   \n",
    "    print(\"\\n\")\n",
    "        \n",
    "    "
   ]
  },
  {
   "cell_type": "code",
   "execution_count": 57,
   "id": "e47c219a",
   "metadata": {},
   "outputs": [],
   "source": [
    "#Question nine\n",
    "#Write a program to check if the given number is a palindrome number."
   ]
  },
  {
   "cell_type": "code",
   "execution_count": null,
   "id": "4990c903",
   "metadata": {},
   "outputs": [],
   "source": [
    "def palindrome(number):\n",
    "    print(\"original number\", number)\n",
    "    original_num = number\n",
    "    reverse_num = 0\n",
    "    while number > 0:\n",
    "        reminder = number % 10\n",
    "        reverse_num = (reverse_num * 10) + reminder\n",
    "        number = number // 10\n",
    "    if original_num == reverse_num:\n",
    "        print(\"Given number palindrome\")\n",
    "    else:\n",
    "        print(\"Given number is not palindrome\")\n",
    "\n",
    "palindrome(121)\n",
    "palindrome(125)"
   ]
  },
  {
   "cell_type": "code",
   "execution_count": null,
   "id": "00333bcf",
   "metadata": {},
   "outputs": [],
   "source": [
    "#Question ten"
   ]
  },
  {
   "cell_type": "code",
   "execution_count": null,
   "id": "112f3c06",
   "metadata": {},
   "outputs": [],
   "source": []
  },
  {
   "cell_type": "code",
   "execution_count": null,
   "id": "bba5f19a",
   "metadata": {},
   "outputs": [],
   "source": [
    "#Question eleven"
   ]
  },
  {
   "cell_type": "code",
   "execution_count": null,
   "id": "b54a72ba",
   "metadata": {},
   "outputs": [],
   "source": []
  },
  {
   "cell_type": "code",
   "execution_count": null,
   "id": "caad570f",
   "metadata": {},
   "outputs": [],
   "source": [
    "#Question twelve"
   ]
  },
  {
   "cell_type": "code",
   "execution_count": null,
   "id": "d167c63d",
   "metadata": {},
   "outputs": [],
   "source": []
  },
  {
   "cell_type": "code",
   "execution_count": null,
   "id": "6453b003",
   "metadata": {},
   "outputs": [],
   "source": [
    "#Question thirteen\n"
   ]
  },
  {
   "cell_type": "code",
   "execution_count": null,
   "id": "ce777430",
   "metadata": {},
   "outputs": [],
   "source": []
  }
 ],
 "metadata": {
  "kernelspec": {
   "display_name": "Python 3 (ipykernel)",
   "language": "python",
   "name": "python3"
  },
  "language_info": {
   "codemirror_mode": {
    "name": "ipython",
    "version": 3
   },
   "file_extension": ".py",
   "mimetype": "text/x-python",
   "name": "python",
   "nbconvert_exporter": "python",
   "pygments_lexer": "ipython3",
   "version": "3.9.7"
  }
 },
 "nbformat": 4,
 "nbformat_minor": 5
}
