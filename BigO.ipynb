{
 "cells": [
  {
   "cell_type": "code",
   "execution_count": null,
   "id": "d8a71d05-d58a-4667-8410-8d9bf3a45b44",
   "metadata": {},
   "outputs": [],
   "source": [
    "#Time complexity"
   ]
  },
  {
   "cell_type": "code",
   "execution_count": null,
   "id": "db9a2534-bcf5-4eea-8bf3-ab824fda9f08",
   "metadata": {},
   "outputs": [
    {
     "name": "stdout",
     "output_type": "stream",
     "text": [
      "1\n"
     ]
    }
   ],
   "source": [
    "#constant time\n",
    "def Big_O_const(values):\n",
    "    #print the first item\n",
    "    print(values[0])\n",
    "Big_O_const([1,2,3])"
   ]
  },
  {
   "cell_type": "code",
   "execution_count": 20,
   "id": "f9d98e07-23db-4e0a-a716-9b834f55196c",
   "metadata": {},
   "outputs": [
    {
     "name": "stdout",
     "output_type": "stream",
     "text": [
      "0\n",
      "1\n",
      "2\n",
      "3\n",
      "4\n",
      "5\n",
      "6\n",
      "7\n",
      "8\n",
      "9\n",
      "None\n"
     ]
    }
   ],
   "source": [
    "#Linear\n",
    "\n",
    "def linear_function(input_lists):\n",
    "\n",
    "    for values in input_lists:\n",
    "        print(values)\n",
    "print(linear_function(list(range(10))))"
   ]
  },
  {
   "cell_type": "code",
   "execution_count": 21,
   "id": "a28500bb-2f29-410b-bcfb-190ae9c436e2",
   "metadata": {},
   "outputs": [
    {
     "name": "stdout",
     "output_type": "stream",
     "text": [
      "0 0\n",
      "0 1\n",
      "0 2\n",
      "1 0\n",
      "1 1\n",
      "1 2\n",
      "2 0\n",
      "2 1\n",
      "2 2\n",
      "None\n"
     ]
    }
   ],
   "source": [
    "#Quadratic\n",
    "def quad_function(input_lists):\n",
    "    for values in input_lists:\n",
    "        for inner_values in input_lists:\n",
    "            print (values,inner_values)\n",
    "            \n",
    "print(quad_function(list(range(3))))"
   ]
  },
  {
   "cell_type": "code",
   "execution_count": 22,
   "id": "769eceab-d096-452c-b475-95dfeb51e257",
   "metadata": {},
   "outputs": [],
   "source": [
    "#space complexity"
   ]
  },
  {
   "cell_type": "code",
   "execution_count": 23,
   "id": "de05e859-13a3-4650-bbd6-f95d2968bbe5",
   "metadata": {},
   "outputs": [
    {
     "name": "stdout",
     "output_type": "stream",
     "text": [
      "['something_new', 'something_new', 'something_new', 'something_new', 'something_new']\n"
     ]
    }
   ],
   "source": [
    "def create_list(n):\n",
    "    new_list =[]\n",
    "\n",
    "    for num in range(n):\n",
    "        new_list.append('something_new')\n",
    "    return new_list\n",
    "\n",
    "\n",
    "print(create_list(5))"
   ]
  },
  {
   "cell_type": "code",
   "execution_count": 27,
   "id": "f95f37d3-96b7-46ad-81e9-43b1c92e3e72",
   "metadata": {},
   "outputs": [
    {
     "name": "stdout",
     "output_type": "stream",
     "text": [
      "[4, 16, 36, 64, 100]\n"
     ]
    }
   ],
   "source": [
    "def return_squares(n):\n",
    "    square_list = []\n",
    "    for num in n:\n",
    "        square_list.append(num * num)\n",
    "\n",
    "    return square_list\n",
    "\n",
    "nums = [2, 4, 6, 8, 10]\n",
    "print(return_squares(nums))\n",
    "#keeps growing in size"
   ]
  },
  {
   "cell_type": "code",
   "execution_count": null,
   "id": "bacafa06-11ba-468b-936b-a125f3679c9c",
   "metadata": {},
   "outputs": [],
   "source": []
  }
 ],
 "metadata": {
  "kernelspec": {
   "display_name": "Python 3 (ipykernel)",
   "language": "python",
   "name": "python3"
  },
  "language_info": {
   "codemirror_mode": {
    "name": "ipython",
    "version": 3
   },
   "file_extension": ".py",
   "mimetype": "text/x-python",
   "name": "python",
   "nbconvert_exporter": "python",
   "pygments_lexer": "ipython3",
   "version": "3.10.5"
  }
 },
 "nbformat": 4,
 "nbformat_minor": 5
}
