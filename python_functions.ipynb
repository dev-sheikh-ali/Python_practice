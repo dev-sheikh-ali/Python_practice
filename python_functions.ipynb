{
 "cells": [
  {
   "cell_type": "code",
   "execution_count": 1,
   "id": "f3e91ba2",
   "metadata": {},
   "outputs": [],
   "source": [
    "#Exercise 1: Create a function in Python"
   ]
  },
  {
   "cell_type": "code",
   "execution_count": 3,
   "id": "04b13d36",
   "metadata": {},
   "outputs": [
    {
     "name": "stdout",
     "output_type": "stream",
     "text": [
      "this is the body of the fuction\n"
     ]
    }
   ],
   "source": [
    "def my_function():\n",
    "    print(\"this is the body of the fuction\")\n",
    "\n",
    "my_function()"
   ]
  },
  {
   "cell_type": "code",
   "execution_count": null,
   "id": "9c2099ae",
   "metadata": {},
   "outputs": [],
   "source": [
    "#Exercise 2: Create a function with variable length of arguments"
   ]
  },
  {
   "cell_type": "code",
   "execution_count": 4,
   "id": "7b0b9520",
   "metadata": {},
   "outputs": [
    {
     "name": "stdout",
     "output_type": "stream",
     "text": [
      "the function contains the following variables: \n",
      "20\n",
      "30\n",
      "40\n",
      "50\n",
      "the function contains the following variables: \n",
      "1\n",
      "3\n"
     ]
    }
   ],
   "source": [
    "def my_function(*args):\n",
    "    print(\"the function contains the following variables: \")\n",
    "    for x in args:\n",
    "        print(x)\n",
    "\n",
    "my_function(20,30,40,50)\n",
    "my_function(1,3)"
   ]
  },
  {
   "cell_type": "code",
   "execution_count": null,
   "id": "6bfe67a1",
   "metadata": {},
   "outputs": [],
   "source": [
    "#Exercise 3: Return multiple values from a function"
   ]
  },
  {
   "cell_type": "code",
   "execution_count": 5,
   "id": "14d89ec8",
   "metadata": {},
   "outputs": [
    {
     "name": "stdout",
     "output_type": "stream",
     "text": [
      "multiply:  200\n",
      "add:  30\n",
      "sub:  10\n"
     ]
    }
   ],
   "source": [
    "def Multi_operation(a,b):\n",
    "    print(\"multiply: \",a*b)\n",
    "    print(\"add: \",a+b)\n",
    "    print(\"sub: \", a-b)\n",
    "    \n",
    "Multi_operation(20,10)"
   ]
  },
  {
   "cell_type": "code",
   "execution_count": null,
   "id": "51589de0",
   "metadata": {},
   "outputs": [],
   "source": [
    "#Exercise 4: Create a function with default argument"
   ]
  },
  {
   "cell_type": "code",
   "execution_count": 6,
   "id": "dd1ecd11",
   "metadata": {},
   "outputs": [
    {
     "name": "stdout",
     "output_type": "stream",
     "text": [
      "Name:  Ali salary: 12000\n",
      "Name:  Abdi salary: 15000\n"
     ]
    }
   ],
   "source": [
    "def employee(name, salary=15000):\n",
    "    print(\"Name: \",name,\"salary:\",salary)\n",
    "    \n",
    "    \n",
    "employee(\"Ali\",12000)\n",
    "employee(\"Abdi\")"
   ]
  },
  {
   "cell_type": "code",
   "execution_count": null,
   "id": "589c49a8",
   "metadata": {},
   "outputs": [],
   "source": [
    "#Exercise 5: Create an inner function to calculate the addition of two parameters within the outer one"
   ]
  },
  {
   "cell_type": "code",
   "execution_count": 8,
   "id": "d700bf59",
   "metadata": {},
   "outputs": [
    {
     "name": "stdout",
     "output_type": "stream",
     "text": [
      "20\n"
     ]
    }
   ],
   "source": [
    "def outer_function(a, b):\n",
    "    def addition(a, b):\n",
    "        return a + b\n",
    "    sum = addition(a, b)\n",
    "    return sum + 5\n",
    "\n",
    "result = outer_function(5, 10)\n",
    "print(result)\n"
   ]
  },
  {
   "cell_type": "code",
   "execution_count": null,
   "id": "2117d5ef",
   "metadata": {},
   "outputs": [],
   "source": [
    "#Exercise 6:create a recursive function to calculate the sum of numbers from 0 to 10."
   ]
  },
  {
   "cell_type": "code",
   "execution_count": 10,
   "id": "91ac11a3",
   "metadata": {},
   "outputs": [
    {
     "name": "stdout",
     "output_type": "stream",
     "text": [
      "55\n"
     ]
    }
   ],
   "source": [
    "def addition(numb):\n",
    "    if numb:\n",
    "        return numb + addition(numb - 1)\n",
    "    else:\n",
    "        return 0\n",
    "result = addition(10)\n",
    "print(result)\n"
   ]
  },
  {
   "cell_type": "code",
   "execution_count": null,
   "id": "24844dde",
   "metadata": {},
   "outputs": [],
   "source": []
  }
 ],
 "metadata": {
  "kernelspec": {
   "display_name": "Python 3 (ipykernel)",
   "language": "python",
   "name": "python3"
  },
  "language_info": {
   "codemirror_mode": {
    "name": "ipython",
    "version": 3
   },
   "file_extension": ".py",
   "mimetype": "text/x-python",
   "name": "python",
   "nbconvert_exporter": "python",
   "pygments_lexer": "ipython3",
   "version": "3.9.7"
  }
 },
 "nbformat": 4,
 "nbformat_minor": 5
}
