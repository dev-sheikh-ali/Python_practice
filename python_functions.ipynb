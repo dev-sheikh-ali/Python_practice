{
 "cells": [
  {
   "cell_type": "code",
   "execution_count": 1,
   "id": "640409ca",
   "metadata": {},
   "outputs": [],
   "source": [
    "#Exercise 1: Create a function in Python"
   ]
  },
  {
   "cell_type": "code",
   "execution_count": 3,
   "id": "222992cd",
   "metadata": {},
   "outputs": [
    {
     "name": "stdout",
     "output_type": "stream",
     "text": [
      "this is the body of the fuction\n"
     ]
    }
   ],
   "source": [
    "def my_function():\n",
    "    print(\"this is the body of the fuction\")\n",
    "\n",
    "my_function()"
   ]
  },
  {
   "cell_type": "code",
   "execution_count": null,
   "id": "fa18d6dd",
   "metadata": {},
   "outputs": [],
   "source": [
    "#Exercise 2: Create a function with variable length of arguments"
   ]
  },
  {
   "cell_type": "code",
   "execution_count": 4,
   "id": "2c01beea",
   "metadata": {},
   "outputs": [
    {
     "name": "stdout",
     "output_type": "stream",
     "text": [
      "the function contains the following variables: \n",
      "20\n",
      "30\n",
      "40\n",
      "50\n",
      "the function contains the following variables: \n",
      "1\n",
      "3\n"
     ]
    }
   ],
   "source": [
    "def my_function(*args):\n",
    "    print(\"the function contains the following variables: \")\n",
    "    for x in args:\n",
    "        print(x)\n",
    "\n",
    "my_function(20,30,40,50)\n",
    "my_function(1,3)"
   ]
  },
  {
   "cell_type": "code",
   "execution_count": null,
   "id": "6a891484",
   "metadata": {},
   "outputs": [],
   "source": [
    "#Exercise 3: Return multiple values from a function"
   ]
  },
  {
   "cell_type": "code",
   "execution_count": 5,
   "id": "0eb6693a",
   "metadata": {},
   "outputs": [
    {
     "name": "stdout",
     "output_type": "stream",
     "text": [
      "multiply:  200\n",
      "add:  30\n",
      "sub:  10\n"
     ]
    }
   ],
   "source": [
    "def Multi_operation(a,b):\n",
    "    print(\"multiply: \",a*b)\n",
    "    print(\"add: \",a+b)\n",
    "    print(\"sub: \", a-b)\n",
    "    \n",
    "Multi_operation(20,10)"
   ]
  },
  {
   "cell_type": "code",
   "execution_count": null,
   "id": "1148cb4a",
   "metadata": {},
   "outputs": [],
   "source": [
    "#Exercise 4: Create a function with default argument"
   ]
  },
  {
   "cell_type": "code",
   "execution_count": null,
   "id": "5e2db5e0",
   "metadata": {},
   "outputs": [],
   "source": []
  }
 ],
 "metadata": {
  "kernelspec": {
   "display_name": "Python 3 (ipykernel)",
   "language": "python",
   "name": "python3"
  },
  "language_info": {
   "codemirror_mode": {
    "name": "ipython",
    "version": 3
   },
   "file_extension": ".py",
   "mimetype": "text/x-python",
   "name": "python",
   "nbconvert_exporter": "python",
   "pygments_lexer": "ipython3",
   "version": "3.9.7"
  }
 },
 "nbformat": 4,
 "nbformat_minor": 5
}
