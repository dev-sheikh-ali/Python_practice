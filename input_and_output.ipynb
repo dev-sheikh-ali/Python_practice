{
 "cells": [
  {
   "cell_type": "code",
   "execution_count": null,
   "id": "38b7fb4b",
   "metadata": {},
   "outputs": [],
   "source": [
    "#Python Input and Output Exercise"
   ]
  },
  {
   "cell_type": "code",
   "execution_count": null,
   "id": "596b4eae",
   "metadata": {},
   "outputs": [],
   "source": [
    "#Question one\n",
    "#Write a program to accept two numbers from the user and calculate multiplication"
   ]
  },
  {
   "cell_type": "code",
   "execution_count": 1,
   "id": "a78dd313",
   "metadata": {},
   "outputs": [
    {
     "name": "stdout",
     "output_type": "stream",
     "text": [
      "Enter first number 1\n",
      "Enter second number 2\n",
      "Multiplication is 2\n"
     ]
    }
   ],
   "source": [
    "num1 = int(input(\"Enter first number \"))\n",
    "num2 = int(input(\"Enter second number \"))\n",
    "\n",
    "res = num1 * num2\n",
    "print(\"Multiplication is\", res)"
   ]
  },
  {
   "cell_type": "code",
   "execution_count": null,
   "id": "a9300c98",
   "metadata": {},
   "outputs": [],
   "source": [
    "#Question two\n",
    "#Display three string “Name”, “Is”, “James” as “Name**Is**James”"
   ]
  },
  {
   "cell_type": "code",
   "execution_count": 7,
   "id": "21b3a45e",
   "metadata": {},
   "outputs": [
    {
     "name": "stdout",
     "output_type": "stream",
     "text": [
      "my**name**is**james\n"
     ]
    }
   ],
   "source": [
    "print('my','name' ,'is', 'james', sep='**')"
   ]
  },
  {
   "cell_type": "code",
   "execution_count": null,
   "id": "4e6fc015",
   "metadata": {},
   "outputs": [],
   "source": [
    "#Question Three\n",
    "#Convert Decimal number to octal using print() output formatting"
   ]
  },
  {
   "cell_type": "code",
   "execution_count": 3,
   "id": "16ebd9fc",
   "metadata": {},
   "outputs": [
    {
     "name": "stdout",
     "output_type": "stream",
     "text": [
      "0o10\n"
     ]
    }
   ],
   "source": [
    "num= 8\n",
    "print(oct(num))\n"
   ]
  },
  {
   "cell_type": "code",
   "execution_count": null,
   "id": "441e0798",
   "metadata": {},
   "outputs": [],
   "source": [
    "#Question Four\n",
    "#Display float number with 2 decimal places using print()"
   ]
  },
  {
   "cell_type": "code",
   "execution_count": 4,
   "id": "c1e8775c",
   "metadata": {},
   "outputs": [
    {
     "name": "stdout",
     "output_type": "stream",
     "text": [
      "458.54\n"
     ]
    }
   ],
   "source": [
    "num = 458.541315\n",
    "print('%.2f' % num)"
   ]
  },
  {
   "cell_type": "code",
   "execution_count": null,
   "id": "54171a3a",
   "metadata": {},
   "outputs": [],
   "source": [
    "#Question Five\n",
    "# Accept a list of 5 float numbers as an input from the user"
   ]
  },
  {
   "cell_type": "code",
   "execution_count": 8,
   "id": "aa26dbab",
   "metadata": {},
   "outputs": [
    {
     "name": "stdout",
     "output_type": "stream",
     "text": [
      "Enter number at location 0 :\n",
      "1.2\n",
      "Enter number at location 1 :\n",
      "2.2\n",
      "Enter number at location 2 :\n",
      "3.3\n",
      "Enter number at location 3 :\n",
      "4.5\n",
      "Enter number at location 4 :\n",
      "6.7\n",
      "User List: [1.2, 2.2, 3.3, 4.5, 6.7]\n"
     ]
    }
   ],
   "source": [
    "numbers = []\n",
    "for i in range(0, 5):\n",
    "    print(\"Enter number at location\", i, \":\")\n",
    "    item = float(input())\n",
    "    numbers.append(item)\n",
    "\n",
    "print(\"User List:\", numbers)\n"
   ]
  },
  {
   "cell_type": "code",
   "execution_count": null,
   "id": "002d8720",
   "metadata": {},
   "outputs": [],
   "source": []
  }
 ],
 "metadata": {
  "kernelspec": {
   "display_name": "Python 3 (ipykernel)",
   "language": "python",
   "name": "python3"
  },
  "language_info": {
   "codemirror_mode": {
    "name": "ipython",
    "version": 3
   },
   "file_extension": ".py",
   "mimetype": "text/x-python",
   "name": "python",
   "nbconvert_exporter": "python",
   "pygments_lexer": "ipython3",
   "version": "3.9.7"
  }
 },
 "nbformat": 4,
 "nbformat_minor": 5
}
