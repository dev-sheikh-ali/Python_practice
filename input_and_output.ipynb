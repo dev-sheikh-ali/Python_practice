{
 "cells": [
  {
   "cell_type": "code",
   "execution_count": null,
   "id": "38b7fb4b",
   "metadata": {},
   "outputs": [],
   "source": [
    "#Python Input and Output Exercise"
   ]
  },
  {
   "cell_type": "code",
   "execution_count": null,
   "id": "596b4eae",
   "metadata": {},
   "outputs": [],
   "source": [
    "#Question one\n",
    "#Write a program to accept two numbers from the user and calculate multiplication"
   ]
  },
  {
   "cell_type": "code",
   "execution_count": null,
   "id": "a78dd313",
   "metadata": {},
   "outputs": [],
   "source": [
    "num1 = int(input(\"Enter first number \"))\n",
    "num2 = int(input(\"Enter second number \"))\n",
    "\n",
    "res = num1 * num2\n",
    "print(\"Multiplication is\", res)"
   ]
  },
  {
   "cell_type": "code",
   "execution_count": null,
   "id": "a9300c98",
   "metadata": {},
   "outputs": [],
   "source": [
    "#Question two\n",
    "#Display three string “Name”, “Is”, “James” as “Name**Is**James”"
   ]
  },
  {
   "cell_type": "code",
   "execution_count": 7,
   "id": "21b3a45e",
   "metadata": {},
   "outputs": [
    {
     "name": "stdout",
     "output_type": "stream",
     "text": [
      "my**name**is**james\n"
     ]
    }
   ],
   "source": [
    "print('my','name' ,'is', 'james', sep='**')"
   ]
  },
  {
   "cell_type": "code",
   "execution_count": null,
   "id": "4e6fc015",
   "metadata": {},
   "outputs": [],
   "source": [
    "#Question Three\n",
    "#Convert Decimal number to octal using print() output formatting"
   ]
  },
  {
   "cell_type": "code",
   "execution_count": null,
   "id": "16ebd9fc",
   "metadata": {},
   "outputs": [],
   "source": [
    "num= 8 \n",
    "print(oct(num))\n"
   ]
  },
  {
   "cell_type": "code",
   "execution_count": null,
   "id": "441e0798",
   "metadata": {},
   "outputs": [],
   "source": [
    "#Question Four\n",
    "#Display float number with 2 decimal places using print()"
   ]
  },
  {
   "cell_type": "code",
   "execution_count": null,
   "id": "c1e8775c",
   "metadata": {},
   "outputs": [],
   "source": [
    "num = 458.541315\n",
    "print('%.2f' % num)"
   ]
  },
  {
   "cell_type": "code",
   "execution_count": null,
   "id": "54171a3a",
   "metadata": {},
   "outputs": [],
   "source": [
    "#Question Five\n",
    "# Accept a list of 5 float numbers as an input from the user"
   ]
  },
  {
   "cell_type": "code",
   "execution_count": null,
   "id": "aa26dbab",
   "metadata": {},
   "outputs": [],
   "source": [
    "numbers = []\n",
    "for i in range(0, 5):\n",
    "    print(\"Enter number at location\", i, \":\")\n",
    "    item = float(input())\n",
    "    numbers.append(item)\n",
    "\n",
    "print(\"user List:\", numbers)\n"
   ]
  },
  {
   "cell_type": "code",
   "execution_count": null,
   "id": "002d8720",
   "metadata": {},
   "outputs": [],
   "source": [
    "#Question Six\n",
    "#Write all content of a given file into a new file by skipping line number 5"
   ]
  },
  {
   "cell_type": "code",
   "execution_count": null,
   "id": "1b9ed511",
   "metadata": {},
   "outputs": [],
   "source": [
    "with open(\"test.txt\", \"r\") as fp:\n",
    "    lines = fp.readlines()\n",
    "with open(\"new_file.txt\", \"w\") as fp:\n",
    "    count = 0\n",
    "    for line in lines:\n",
    "        # skip 5th lines\n",
    "        if count == 4:\n",
    "            count += 1\n",
    "            continue\n",
    "        else:\n",
    "            fp.write(line)\n",
    "        count += 1"
   ]
  },
  {
   "cell_type": "code",
   "execution_count": null,
   "id": "c3a3710b",
   "metadata": {},
   "outputs": [],
   "source": [
    "#Question Seven\n",
    "#Accept any three string from one input() call"
   ]
  },
  {
   "cell_type": "code",
   "execution_count": null,
   "id": "f4fc76da",
   "metadata": {},
   "outputs": [],
   "source": [
    "counter =1\n",
    "name=\" \"\n",
    "while counter < 2:\n",
    "    input(name)\n",
    "    print(name)\n",
    " "
   ]
  },
  {
   "cell_type": "code",
   "execution_count": null,
   "id": "590d6df4",
   "metadata": {},
   "outputs": [],
   "source": [
    "#Question eight\n",
    "#Format variables using a string.format() method."
   ]
  },
  {
   "cell_type": "code",
   "execution_count": null,
   "id": "f41fcec1",
   "metadata": {},
   "outputs": [],
   "source": [
    "quantity = 3\n",
    "totalMoney = 1000\n",
    "price = 450\n",
    "statement1 = \"I have {1} dollars so I can buy {0} football for {2:.2f} dollars.\"\n",
    "print(statement1.format(quantity, totalMoney, price))\n"
   ]
  }
 ],
 "metadata": {
  "kernelspec": {
   "display_name": "Python 3 (ipykernel)",
   "language": "python",
   "name": "python3"
  },
  "language_info": {
   "codemirror_mode": {
    "name": "ipython",
    "version": 3
   },
   "file_extension": ".py",
   "mimetype": "text/x-python",
   "name": "python",
   "nbconvert_exporter": "python",
   "pygments_lexer": "ipython3",
   "version": "3.9.7"
  }
 },
 "nbformat": 4,
 "nbformat_minor": 5
}
