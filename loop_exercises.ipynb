{
 "cells": [
  {
   "cell_type": "code",
   "execution_count": null,
   "id": "5b13cc9b",
   "metadata": {},
   "outputs": [],
   "source": [
    "#Exercise 1: Print First 10 natural numbers using while loop"
   ]
  },
  {
   "cell_type": "code",
   "execution_count": null,
   "id": "0f81f644",
   "metadata": {},
   "outputs": [],
   "source": [
    "number=1\n",
    "while number<11:\n",
    "    print(number)\n",
    "    number = number+1"
   ]
  },
  {
   "cell_type": "code",
   "execution_count": null,
   "id": "085f1c38",
   "metadata": {},
   "outputs": [],
   "source": [
    "#Exercise 2: Print the following pattern\n",
    "#1 \n",
    "#1 2 \n",
    "#1 2 3 \n",
    "#1 2 3 4 \n",
    "#1 2 3 4 5"
   ]
  },
  {
   "cell_type": "code",
   "execution_count": null,
   "id": "341e8794",
   "metadata": {},
   "outputs": [],
   "source": [
    "row=5\n",
    "for i in range(1,row+1):\n",
    "    for j in range(1,i+1):\n",
    "        print(j,end=\" \")\n",
    "    print(\" \\n\")"
   ]
  },
  {
   "cell_type": "code",
   "execution_count": null,
   "id": "25c40371",
   "metadata": {},
   "outputs": [],
   "source": [
    "#Exercise 3: Calculate the sum of all numbers from 1 to a given number"
   ]
  },
  {
   "cell_type": "code",
   "execution_count": null,
   "id": "49788da0",
   "metadata": {},
   "outputs": [],
   "source": [
    "sum = 0\n",
    "num = int(input(\"Enter number \"))\n",
    "for i in range(1, num + 1, 1):\n",
    "    sum += i\n",
    "print(\"\\n\")\n",
    "print(\"Sum is: \", sum)\n"
   ]
  },
  {
   "cell_type": "code",
   "execution_count": null,
   "id": "6d3cf6b3",
   "metadata": {},
   "outputs": [],
   "source": [
    "#Exercise 4: Write a program to print multiplication table of a given number"
   ]
  },
  {
   "cell_type": "code",
   "execution_count": 1,
   "id": "7f9b59dd",
   "metadata": {},
   "outputs": [
    {
     "name": "stdout",
     "output_type": "stream",
     "text": [
      "Enter number 1110\n",
      "1110\n",
      "2220\n",
      "3330\n",
      "4440\n",
      "5550\n",
      "6660\n",
      "7770\n",
      "8880\n",
      "9990\n",
      "11100\n"
     ]
    }
   ],
   "source": [
    "num = int(input(\"Enter number \"))\n",
    "for i in range(1, 11, 1):\n",
    "    product = num * i\n",
    "    print(product)\n"
   ]
  },
  {
   "cell_type": "code",
   "execution_count": null,
   "id": "2d53f47a",
   "metadata": {},
   "outputs": [],
   "source": [
    "#Exercise 5: Display specific numbers from a list using loop"
   ]
  },
  {
   "cell_type": "code",
   "execution_count": 5,
   "id": "d487c5cd",
   "metadata": {},
   "outputs": [
    {
     "name": "stdout",
     "output_type": "stream",
     "text": [
      "121\n",
      "151\n",
      "181\n"
     ]
    }
   ],
   "source": [
    "numbers = [121, 575, 151, 181, 545, 525, 505]\n",
    "for i in numbers:\n",
    "    if i%5==0:\n",
    "        continue\n",
    "    print(i)"
   ]
  },
  {
   "cell_type": "code",
   "execution_count": null,
   "id": "3207692f",
   "metadata": {},
   "outputs": [],
   "source": [
    "#Exercise 6: Count the total number of digits in a number"
   ]
  },
  {
   "cell_type": "code",
   "execution_count": 6,
   "id": "8574dc7e",
   "metadata": {},
   "outputs": [
    {
     "name": "stdout",
     "output_type": "stream",
     "text": [
      "Total digits are: 7\n"
     ]
    }
   ],
   "source": [
    "num = 7777889\n",
    "count = 0\n",
    "while num != 0:\n",
    "    num = num // 10\n",
    "    count = count + 1\n",
    "print(\"Total digits are:\", count)"
   ]
  },
  {
   "cell_type": "code",
   "execution_count": null,
   "id": "76c5d227",
   "metadata": {},
   "outputs": [],
   "source": []
  }
 ],
 "metadata": {
  "kernelspec": {
   "display_name": "Python 3 (ipykernel)",
   "language": "python",
   "name": "python3"
  },
  "language_info": {
   "codemirror_mode": {
    "name": "ipython",
    "version": 3
   },
   "file_extension": ".py",
   "mimetype": "text/x-python",
   "name": "python",
   "nbconvert_exporter": "python",
   "pygments_lexer": "ipython3",
   "version": "3.9.7"
  }
 },
 "nbformat": 4,
 "nbformat_minor": 5
}
