{
 "cells": [
  {
   "cell_type": "code",
   "execution_count": null,
   "id": "b2db6808",
   "metadata": {},
   "outputs": [],
   "source": [
    "#Exercise 1: Print First 10 natural numbers using while loop"
   ]
  },
  {
   "cell_type": "code",
   "execution_count": null,
   "id": "a8906609",
   "metadata": {},
   "outputs": [],
   "source": [
    "number=1\n",
    "while number<11:\n",
    "    print(number)\n",
    "    number = number+1"
   ]
  },
  {
   "cell_type": "code",
   "execution_count": null,
   "id": "dc35ab1e",
   "metadata": {},
   "outputs": [],
   "source": [
    "#Exercise 2: Print the following pattern\n",
    "#1 \n",
    "#1 2 \n",
    "#1 2 3 \n",
    "#1 2 3 4 \n",
    "#1 2 3 4 5"
   ]
  },
  {
   "cell_type": "code",
   "execution_count": null,
   "id": "d69788f2",
   "metadata": {},
   "outputs": [],
   "source": [
    "row=5\n",
    "for i in range(1,row+1):\n",
    "    for j in range(1,i+1):\n",
    "        print(j,end=\" \")\n",
    "    print(\" \\n\")"
   ]
  },
  {
   "cell_type": "code",
   "execution_count": null,
   "id": "6736c30e",
   "metadata": {},
   "outputs": [],
   "source": [
    "#Exercise 3: Calculate the sum of all numbers from 1 to a given number"
   ]
  },
  {
   "cell_type": "code",
   "execution_count": null,
   "id": "a5eb77a6",
   "metadata": {},
   "outputs": [],
   "source": [
    "sum = 0\n",
    "num = int(input(\"Enter number \"))\n",
    "for i in range(1, num + 1, 1):\n",
    "    sum += i\n",
    "print(\"\\n\")\n",
    "print(\"Sum is: \", sum)\n"
   ]
  },
  {
   "cell_type": "code",
   "execution_count": null,
   "id": "7bac2042",
   "metadata": {},
   "outputs": [],
   "source": [
    "#Exercise 4: Write a program to print multiplication table of a given number"
   ]
  },
  {
   "cell_type": "code",
   "execution_count": 1,
   "id": "835f85e9",
   "metadata": {},
   "outputs": [
    {
     "name": "stdout",
     "output_type": "stream",
     "text": [
      "Enter number 1110\n",
      "1110\n",
      "2220\n",
      "3330\n",
      "4440\n",
      "5550\n",
      "6660\n",
      "7770\n",
      "8880\n",
      "9990\n",
      "11100\n"
     ]
    }
   ],
   "source": [
    "num = int(input(\"Enter number \"))\n",
    "for i in range(1, 11, 1):\n",
    "    product = num * i\n",
    "    print(product)\n"
   ]
  },
  {
   "cell_type": "code",
   "execution_count": null,
   "id": "07c75fd1",
   "metadata": {},
   "outputs": [],
   "source": [
    "#Exercise 5: Display specific numbers from a list using loop"
   ]
  },
  {
   "cell_type": "code",
   "execution_count": 5,
   "id": "67bd1f4f",
   "metadata": {},
   "outputs": [
    {
     "name": "stdout",
     "output_type": "stream",
     "text": [
      "121\n",
      "151\n",
      "181\n"
     ]
    }
   ],
   "source": [
    "numbers = [121, 575, 151, 181, 545, 525, 505]\n",
    "for i in numbers:\n",
    "    if i%5==0:\n",
    "        continue\n",
    "    print(i)"
   ]
  },
  {
   "cell_type": "code",
   "execution_count": null,
   "id": "fa153afd",
   "metadata": {},
   "outputs": [],
   "source": [
    "#Exercise 6: Count the total number of digits in a number"
   ]
  },
  {
   "cell_type": "code",
   "execution_count": 6,
   "id": "6383ae34",
   "metadata": {},
   "outputs": [
    {
     "name": "stdout",
     "output_type": "stream",
     "text": [
      "Total digits are: 7\n"
     ]
    }
   ],
   "source": [
    "num = 7777889\n",
    "count = 0\n",
    "while num != 0:\n",
    "    num = num // 10\n",
    "    count = count + 1\n",
    "print(\"Total digits are:\", count)"
   ]
  },
  {
   "cell_type": "code",
   "execution_count": null,
   "id": "862d0559",
   "metadata": {},
   "outputs": [],
   "source": [
    "#Exercise 7: Display Fibonacci series up to 10 terms"
   ]
  },
  {
   "cell_type": "code",
   "execution_count": 7,
   "id": "081ca441",
   "metadata": {},
   "outputs": [
    {
     "name": "stdout",
     "output_type": "stream",
     "text": [
      "Fibonacci sequence:\n",
      "0  1  1  2  3  5  8  13  21  34  "
     ]
    }
   ],
   "source": [
    "num1, num2 = 0, 1\n",
    "print(\"Fibonacci sequence:\")\n",
    "for i in range(10):\n",
    "    print(num1, end=\"  \")\n",
    "    res = num1 + num2\n",
    "    num1 = num2\n",
    "    num2 = res\n"
   ]
  },
  {
   "cell_type": "code",
   "execution_count": null,
   "id": "09686f01",
   "metadata": {},
   "outputs": [],
   "source": [
    "#Exercise 8: Find the factorial of a given number"
   ]
  },
  {
   "cell_type": "code",
   "execution_count": 8,
   "id": "9740e355",
   "metadata": {},
   "outputs": [
    {
     "name": "stdout",
     "output_type": "stream",
     "text": [
      "Enter number 0\n",
      "The factorial of 0 is 1\n"
     ]
    }
   ],
   "source": [
    "num = int(input(\"Enter number \"))\n",
    "factorial = 1\n",
    "if num < 0:\n",
    "    print(\"Factorial does not exist for negative numbers\")\n",
    "elif num == 0:\n",
    "    print(\"The factorial of 0 is 1\")\n",
    "else:\n",
    "    for i in range(1, num + 1):\n",
    "        factorial = factorial * i\n",
    "    print(\"The factorial of\", num, \"is\", factorial)\n"
   ]
  },
  {
   "cell_type": "code",
   "execution_count": null,
   "id": "fd2308ee",
   "metadata": {},
   "outputs": [],
   "source": [
    "#Exercise 9: Reverse a given integer number"
   ]
  },
  {
   "cell_type": "code",
   "execution_count": 9,
   "id": "d58b099f",
   "metadata": {},
   "outputs": [
    {
     "name": "stdout",
     "output_type": "stream",
     "text": [
      "Given Number  734343\n",
      "Revere Number  343437\n"
     ]
    }
   ],
   "source": [
    "num = 734343\n",
    "reverse_number = 0\n",
    "print(\"Given Number \", num)\n",
    "while num > 0:\n",
    "    reminder = num % 10\n",
    "    reverse_number = (reverse_number * 10) + reminder\n",
    "    num = num // 10\n",
    "print(\"Revere Number \", reverse_number)"
   ]
  },
  {
   "cell_type": "code",
   "execution_count": null,
   "id": "fb2ba317",
   "metadata": {},
   "outputs": [],
   "source": []
  }
 ],
 "metadata": {
  "kernelspec": {
   "display_name": "Python 3 (ipykernel)",
   "language": "python",
   "name": "python3"
  },
  "language_info": {
   "codemirror_mode": {
    "name": "ipython",
    "version": 3
   },
   "file_extension": ".py",
   "mimetype": "text/x-python",
   "name": "python",
   "nbconvert_exporter": "python",
   "pygments_lexer": "ipython3",
   "version": "3.9.7"
  }
 },
 "nbformat": 4,
 "nbformat_minor": 5
}
